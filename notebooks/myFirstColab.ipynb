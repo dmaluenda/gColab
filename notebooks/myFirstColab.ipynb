{
  "nbformat": 4,
  "nbformat_minor": 0,
  "metadata": {
    "colab": {
      "name": "myFirstColab.ipynb",
      "provenance": [],
      "collapsed_sections": [],
      "mount_file_id": "1GJBC7f7cKE4L_isJY6_b26G4M2pXVHfj",
      "authorship_tag": "ABX9TyOEBSuhwCE4gzAKp+vHgK6I",
      "include_colab_link": true
    },
    "kernelspec": {
      "name": "python3",
      "display_name": "Python 3"
    },
    "language_info": {
      "name": "python"
    }
  },
  "cells": [
    {
      "cell_type": "markdown",
      "metadata": {
        "id": "view-in-github",
        "colab_type": "text"
      },
      "source": [
        "<a href=\"https://colab.research.google.com/github/dmaluenda/gColab/blob/main/notebooks/myFirstColab.ipynb\" target=\"_parent\"><img src=\"https://colab.research.google.com/assets/colab-badge.svg\" alt=\"Open In Colab\"/></a>"
      ]
    },
    {
      "cell_type": "markdown",
      "metadata": {
        "id": "E9kBk79FZvMO"
      },
      "source": [
        "### Initializing\n",
        "\n",
        "Showing the assigned GPU\n",
        "and moving to the 'Colab_home' dir in my gDrive\n",
        "\n",
        "Importing 'os' and 'sys' basic modules."
      ]
    },
    {
      "cell_type": "code",
      "metadata": {
        "id": "3OJoKc5XCaio"
      },
      "source": [
        "!nvidia-smi\n",
        "\n",
        "import sys, os\n",
        "\n",
        "print(\"Moving from '%s'...\" % os.getcwd())\n",
        "os.chdir('/content/drive/MyDrive/Colab_home')\n",
        "print(\"...to '%s'\" % os.getcwd())\n"
      ],
      "execution_count": null,
      "outputs": []
    }
  ]
}