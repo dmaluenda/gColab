{
  "nbformat": 4,
  "nbformat_minor": 0,
  "metadata": {
    "colab": {
      "name": "myFirstColab.ipynb",
      "provenance": [],
      "collapsed_sections": [],
      "mount_file_id": "1GJBC7f7cKE4L_isJY6_b26G4M2pXVHfj",
      "authorship_tag": "ABX9TyOEBSuhwCE4gzAKp+vHgK6I",
      "include_colab_link": true
    },
    "kernelspec": {
      "name": "python3",
      "display_name": "Python 3"
    },
    "language_info": {
      "name": "python"
    }
  },
  "cells": [
    {
      "cell_type": "markdown",
      "metadata": {
        "id": "view-in-github",
        "colab_type": "text"
      },
      "source": [
        "<a href=\"https://colab.research.google.com/github/dmaluenda/gColab/blob/main/notebooks/myFirstColab.ipynb\" target=\"_parent\"><img src=\"https://colab.research.google.com/assets/colab-badge.svg\" alt=\"Open In Colab\"/></a>"
      ]
    },
    {
      "cell_type": "markdown",
      "metadata": {
        "id": "E9kBk79FZvMO"
      },
      "source": [
        "### Initializing\n",
        "\n",
        "Showing the assigned GPU\n",
        "and moving to the 'Colab_home' dir in my gDrive\n",
        "\n",
        "Importing 'os' and 'sys' basic modules."
      ]
    },
    {
      "cell_type": "code",
      "metadata": {
        "colab": {
          "base_uri": "https://localhost:8080/"
        },
        "id": "3OJoKc5XCaio",
        "outputId": "fcb474d3-d504-49d4-c00a-8b0dde8310aa"
      },
      "source": [
        "!nvidia-smi\n",
        "\n",
        "import sys, os\n",
        "\n",
        "print(\"Moving from '%s'...\" % os.getcwd())\n",
        "os.chdir('/content/drive/MyDrive/Colab_home')\n",
        "print(\"...to '%s'\" % os.getcwd())\n"
      ],
      "execution_count": 1,
      "outputs": [
        {
          "output_type": "stream",
          "text": [
            "NVIDIA-SMI has failed because it couldn't communicate with the NVIDIA driver. Make sure that the latest NVIDIA driver is installed and running.\n",
            "\n",
            "Moving from '/content'...\n",
            "...to '/content/drive/MyDrive/Colab_home'\n"
          ],
          "name": "stdout"
        }
      ]
    }
  ]
}